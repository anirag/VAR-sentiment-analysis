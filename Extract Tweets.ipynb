{
 "cells": [
  {
   "cell_type": "code",
   "execution_count": null,
   "metadata": {},
   "outputs": [],
   "source": [
    "Consumer API keys\n",
    "'QaQBF8BrIfbg7axykFk68PIwV' (API key)\n",
    "\n",
    "'XFt7CuHzbA0crmj9SKp52O9SJ7RcPjcuzQVwG1a4rBYqrXmzKG' (API secret key)\n",
    "\n",
    "\n",
    "'323646166-entRZUpRlgKpclXbCmGfkMIXRlZORTXteJC7Qev6' (Access token)\n",
    "\n",
    "'YcCcnDmhB9Nxvm38xMCfGJVxT2IiVxO0iV4t9oRLMNnmk' (Access token secret)\n",
    "\n"
   ]
  },
  {
   "cell_type": "code",
   "execution_count": 3,
   "metadata": {},
   "outputs": [],
   "source": [
    "import os\n",
    "import tweepy as tw\n",
    "import pandas as pd"
   ]
  },
  {
   "cell_type": "code",
   "execution_count": null,
   "metadata": {},
   "outputs": [],
   "source": [
    "consumer_key='QaQBF8BrIfbg7axykFk68PIwV'\n",
    "consumer_secret='XFt7CuHzbA0crmj9SKp52O9SJ7RcPjcuzQVwG1a4rBYqrXmzKG'\n",
    "access_token= '323646166-entRZUpRlgKpclXbCmGfkMIXRlZORTXteJC7Qev6'\n",
    "access_token_secret= 'YcCcnDmhB9Nxvm38xMCfGJVxT2IiVxO0iV4t9oRLMNnmk'"
   ]
  },
  {
   "cell_type": "code",
   "execution_count": 9,
   "metadata": {},
   "outputs": [],
   "source": [
    "a = [\n",
    "    \"VAR epl\",\n",
    "    \"VAR Premier League\",\n",
    "    \"VAR premier league\",\n",
    "    \"var Premier League\",\n",
    "    \"var premier league\",\n",
    "    \"var epl\",\n",
    "    \"VAR EPL\",\n",
    "]"
   ]
  },
  {
   "cell_type": "code",
   "execution_count": 10,
   "metadata": {},
   "outputs": [],
   "source": [
    "a.append(\" -filter:retweets\")"
   ]
  },
  {
   "cell_type": "code",
   "execution_count": 11,
   "metadata": {},
   "outputs": [
    {
     "data": {
      "text/plain": [
       "['VAR epl',\n",
       " 'VAR Premier League',\n",
       " 'VAR premier league',\n",
       " 'var Premier League',\n",
       " 'var premier league',\n",
       " 'var epl',\n",
       " 'VAR EPL',\n",
       " ' -filter:retweets']"
      ]
     },
     "execution_count": 11,
     "metadata": {},
     "output_type": "execute_result"
    }
   ],
   "source": [
    "a"
   ]
  },
  {
   "cell_type": "code",
   "execution_count": null,
   "metadata": {},
   "outputs": [],
   "source": [
    "q = \"(VAR epl) OR (VAR Premier League) OR (VAR premier league) OR (VAR EPL) OR (var epl) OR (var Premier League) OR (var premier league) -filter:retweets\""
   ]
  }
 ],
 "metadata": {
  "hide_input": false,
  "kernelspec": {
   "display_name": "Python 3",
   "language": "python",
   "name": "python3"
  },
  "language_info": {
   "codemirror_mode": {
    "name": "ipython",
    "version": 3
   },
   "file_extension": ".py",
   "mimetype": "text/x-python",
   "name": "python",
   "nbconvert_exporter": "python",
   "pygments_lexer": "ipython3",
   "version": "3.7.3"
  },
  "toc": {
   "base_numbering": 1,
   "nav_menu": {},
   "number_sections": true,
   "sideBar": true,
   "skip_h1_title": false,
   "title_cell": "Table of Contents",
   "title_sidebar": "Contents",
   "toc_cell": false,
   "toc_position": {},
   "toc_section_display": true,
   "toc_window_display": false
  }
 },
 "nbformat": 4,
 "nbformat_minor": 2
}
